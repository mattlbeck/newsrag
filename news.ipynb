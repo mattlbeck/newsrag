{
 "cells": [
  {
   "cell_type": "code",
   "execution_count": 56,
   "metadata": {},
   "outputs": [
    {
     "name": "stdout",
     "output_type": "stream",
     "text": [
      "The autoreload extension is already loaded. To reload it, use:\n",
      "  %reload_ext autoreload\n"
     ]
    }
   ],
   "source": [
    "%load_ext autoreload \n",
    "%autoreload 2\n",
    "import newspaper\n",
    "import rag\n",
    "from feeds import TheGuardian\n",
    "import feedparser"
   ]
  },
  {
   "cell_type": "code",
   "execution_count": 3,
   "metadata": {},
   "outputs": [],
   "source": [
    "from top2vec import Top2Vec"
   ]
  },
  {
   "cell_type": "code",
   "execution_count": 55,
   "metadata": {},
   "outputs": [
    {
     "data": {
      "text/plain": [
       "256"
      ]
     },
     "execution_count": 55,
     "metadata": {},
     "output_type": "execute_result"
    }
   ],
   "source": [
    "\n",
    "from feeds import AssociatedPress, TheGuardian, BBC, download_feeds\n",
    "\n",
    "docs = download_feeds([TheGuardian, BBC, AssociatedPress])\n",
    "len(docs)\n"
   ]
  },
  {
   "cell_type": "code",
   "execution_count": 54,
   "metadata": {},
   "outputs": [
    {
     "name": "stderr",
     "output_type": "stream",
     "text": [
      "2024-11-15 12:33:56,652 - top2vec - INFO - Pre-processing documents for training\n",
      "INFO:top2vec:Pre-processing documents for training\n",
      "/opt/homebrew/Caskroom/miniforge/base/envs/newsrag/lib/python3.11/site-packages/sklearn/feature_extraction/text.py:521: UserWarning: The parameter 'token_pattern' will not be used since 'tokenizer' is not None'\n",
      "  warnings.warn(\n",
      "2024-11-15 12:33:56,661 - top2vec - INFO - Downloading universal-sentence-encoder model\n",
      "INFO:top2vec:Downloading universal-sentence-encoder model\n",
      "2024-11-15 12:34:00,494 - top2vec - INFO - Creating joint document/word embedding\n",
      "INFO:top2vec:Creating joint document/word embedding\n",
      "2024-11-15 12:34:00,733 - top2vec - INFO - Creating lower dimension embedding of documents\n",
      "INFO:top2vec:Creating lower dimension embedding of documents\n",
      "2024-11-15 12:34:00,882 - top2vec - INFO - Finding dense areas of documents\n",
      "INFO:top2vec:Finding dense areas of documents\n",
      "2024-11-15 12:34:00,887 - top2vec - INFO - Finding topics\n",
      "INFO:top2vec:Finding topics\n"
     ]
    },
    {
     "name": "stdout",
     "output_type": "stream",
     "text": [
      "126: brexit, tory, bitcoin, warns, watchdog, governor, accused, unveils, lawless, abuse, chaotic, sentenced, thieves, economy, financial, cryptocurrency, tuchel, pension, climate, crisis, problems, news, trump, re, scotland, police, poor, flee, bbc, tumour, gary, government, cctv, lineker, critical, sudan, storm, strike, penalty, not, dying, weeks, then, uk, experts, ban, longer, friday, suspended, yet\n",
      "76: lineker, tuchel, mcdavid, rugby, soccer, nhl, football, penalty, jets, final, mccall, england, coaching, wins, jones, injury, wales, league, rfk, win, coach, scotland, team, won, draws, blitz, tennis, connor, scores, tyson, brazil, match, france, strikes, victory, defence, greatest, chancellor, alex, argentina, jr, mike, greece, suspended, loses, donald, clash, bbc, strike, gamble\n",
      "54: trump, presidential, donald, infowars, election, president, political, democratic, brexit, elect, rfk, jr, kennedy, news, andrew, friday, celebrity, secretary, gary, lobbyists, leader, unveils, musk, america, alex, lineker, tory, chancellor, governor, tuchel, priorities, decisions, appointments, editorial, summit, latest, us, jones, chief, evacuation, mike, john, official, yet, texas, don, paul, tyson, robert, won\n"
     ]
    }
   ],
   "source": [
    "\n",
    "Top2Vec.contextual_top2vec = False\n",
    "model = Top2Vec([d.content for d in docs], embedding_model='universal-sentence-encoder', min_count=1, speed=\"deep-learn\", ngram_vocab=False)\n",
    "num_topics = model.get_num_topics()\n",
    "topic_words, word_scores, topic_nums = model.get_topics(num_topics)\n",
    "topic_sizes, topic_nums = model.get_topic_sizes()\n",
    "for size, words in zip(topic_sizes, topic_words):\n",
    "    print(f\"{size}: {', '.join(words)}\")"
   ]
  },
  {
   "cell_type": "code",
   "execution_count": null,
   "metadata": {},
   "outputs": [
    {
     "data": {
      "text/plain": [
       "4"
      ]
     },
     "execution_count": 31,
     "metadata": {},
     "output_type": "execute_result"
    }
   ],
   "source": [
    "from haystack_integrations.components.generators.ollama import OllamaGenerator\n",
    "llm = OllamaGenerator(model=\"llama3.2\")\n",
    "prompt = f\"\"\"\n",
    "Given the below keywords, provide a short description of the topic they fit into.\n",
    "Keywords: {topic_words[:10]}\n",
    "Topic: \n",
    "\"\"\""
   ]
  },
  {
   "cell_type": "code",
   "execution_count": 49,
   "metadata": {},
   "outputs": [
    {
     "name": "stdout",
     "output_type": "stream",
     "text": [
      "Shadow chancellor warns Reeves over EU ties after Bank chief says Brexit harming economy – UK politics live\n",
      "Middle East crisis live: ‘Heavy strike’ reported in Beirut after Israeli evacuation order\n",
      "RFK Jr condemned as ‘clear and present danger’ after Trump nomination\n",
      "Two newly discovered stone circles on Dartmoor boost ‘sacred arc’ theory\n",
      "Pakistan military has no intention of cutting deal with jailed former prime minister Imran Khan – sources\n",
      "Davina McCall to have brain surgery for ‘very rare’ benign tumour\n",
      "Cop29 live: calls grow to ban fossil fuel lobbyists at summit as numbers soar\n",
      "England fans ‘treated like animals’ in Greece, prompting investigations\n",
      "No 10 apologises after meat and alcohol served at Diwali celebration\n",
      "Snow and ice expected in Scotland and north of England, Met Office warns\n"
     ]
    }
   ],
   "source": [
    "guardian = TheGuardian().get_documents()\n",
    "\n",
    "for d in guardian[:10]:\n",
    "    print(d.content)"
   ]
  },
  {
   "cell_type": "code",
   "execution_count": null,
   "metadata": {},
   "outputs": [
    {
     "data": {
      "text/plain": [
       "array([93, 72, 52, 38])"
      ]
     },
     "execution_count": 33,
     "metadata": {},
     "output_type": "execute_result"
    }
   ],
   "source": [
    "\n",
    "topic_sizes"
   ]
  },
  {
   "cell_type": "code",
   "execution_count": 57,
   "metadata": {},
   "outputs": [],
   "source": [
    "def check_feed(url):\n",
    "    articles = feedparser.parse(url)[\"entries\"]\n",
    "    print(len(articles))\n",
    "    print(articles[0])"
   ]
  },
  {
   "cell_type": "code",
   "execution_count": 58,
   "metadata": {},
   "outputs": [
    {
     "name": "stdout",
     "output_type": "stream",
     "text": [
      "10\n",
      "{'title': \"Chancellor 'not satisfied' as UK economic growth slows\", 'title_detail': {'type': 'text/plain', 'language': None, 'base': 'https://feeds.skynews.com/feeds/rss/home.xml', 'value': \"Chancellor 'not satisfied' as UK economic growth slows\"}, 'links': [{'rel': 'alternate', 'type': 'text/html', 'href': 'https://news.sky.com/story/uk-economy-grows-by-01-between-july-and-september-but-slower-than-expected-13254485'}, {'length': '0', 'type': 'image/jpeg', 'href': 'https://e3.365dm.com/24/10/1920x1080/skynews-cash-money_6733362.jpg?20241030171824', 'rel': 'enclosure'}], 'link': 'https://news.sky.com/story/uk-economy-grows-by-01-between-july-and-september-but-slower-than-expected-13254485', 'summary': 'The UK economy grew by 0.1% between July and September, according to the Office for National Statistics (ONS).', 'summary_detail': {'type': 'text/html', 'language': None, 'base': 'https://feeds.skynews.com/feeds/rss/home.xml', 'value': 'The UK economy grew by 0.1% between July and September, according to the Office for National Statistics (ONS).'}, 'published': 'Fri, 15 Nov 2024 06:55:00 +0000', 'published_parsed': time.struct_time(tm_year=2024, tm_mon=11, tm_mday=15, tm_hour=6, tm_min=55, tm_sec=0, tm_wday=4, tm_yday=320, tm_isdst=0), 'id': 'https://news.sky.com/story/uk-economy-grows-by-01-between-july-and-september-but-slower-than-expected-13254485', 'guidislink': False, 'content': [{'type': 'text/html', 'language': None, 'base': 'https://feeds.skynews.com/feeds/rss/home.xml', 'value': 'A file picture of someone counting money. Pic: iStock'}], 'media_thumbnail': [{'url': 'https://e3.365dm.com/24/10/1920x1080/skynews-cash-money_6733362.jpg?20241030171824', 'width': '1920', 'height': '1080'}], 'href': '', 'media_content': [{'type': 'image/jpeg', 'url': 'https://e3.365dm.com/24/10/1920x1080/skynews-cash-money_6733362.jpg?20241030171824'}]}\n"
     ]
    }
   ],
   "source": [
    "check_feed(\"https://feeds.skynews.com/feeds/rss/home.xml\")"
   ]
  },
  {
   "cell_type": "code",
   "execution_count": null,
   "metadata": {},
   "outputs": [],
   "source": []
  }
 ],
 "metadata": {
  "kernelspec": {
   "display_name": "newsrag",
   "language": "python",
   "name": "python3"
  },
  "language_info": {
   "codemirror_mode": {
    "name": "ipython",
    "version": 3
   },
   "file_extension": ".py",
   "mimetype": "text/x-python",
   "name": "python",
   "nbconvert_exporter": "python",
   "pygments_lexer": "ipython3",
   "version": "3.11.10"
  }
 },
 "nbformat": 4,
 "nbformat_minor": 2
}
