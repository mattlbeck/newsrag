{
 "cells": [
  {
   "cell_type": "code",
   "execution_count": 1,
   "metadata": {},
   "outputs": [
    {
     "name": "stderr",
     "output_type": "stream",
     "text": [
      "/opt/homebrew/Caskroom/miniforge/base/envs/newsrag/lib/python3.11/site-packages/tqdm/auto.py:21: TqdmWarning: IProgress not found. Please update jupyter and ipywidgets. See https://ipywidgets.readthedocs.io/en/stable/user_install.html\n",
      "  from .autonotebook import tqdm as notebook_tqdm\n"
     ]
    }
   ],
   "source": [
    "%load_ext autoreload \n",
    "%autoreload 2\n",
    "import newspaper\n",
    "import rag"
   ]
  },
  {
   "cell_type": "code",
   "execution_count": 19,
   "metadata": {},
   "outputs": [],
   "source": [
    "guardian = newspaper.build(\"http://theguardian.com/uk\")"
   ]
  },
  {
   "cell_type": "code",
   "execution_count": 18,
   "metadata": {},
   "outputs": [
    {
     "name": "stdout",
     "output_type": "stream",
     "text": [
      "https://www.theguardian.com/us-news/ng-interactive/2024/nov/06/us-election-results-map-2024-live-donald-trump-kamala-harris-president\n",
      "Kamala Harris 226 Electoral college votes Donald Trump 295 Electoral college votes 67,978,219 votes \n",
      "https://www.theguardian.com/us-news/ng-interactive/2024/nov/06/us-election-results-map-2024-live-donald-trump-kamala-harris-president#how-does-the-us-election-work\n",
      "Kamala Harris 226 Electoral college votes Donald Trump 295 Electoral college votes 67,978,219 votes \n",
      "http://theguardian.com/us-news/live/2024/nov/07/us-election-2024-live-updates-donald-trump-victory-kamala-harris\n",
      "From 1h ago 13.50 GMT Biden to address nation after Trump re-elected president Joe Biden is schedule\n",
      "http://theguardian.com/us-news/2024/nov/06/kamala-harris-concession-speech\n",
      "Kamala Harris formally conceded the election to Donald Trump on Wednesday, urging Americans devastat\n",
      "http://theguardian.com/us-news/2024/nov/07/election-trump-antivax-movement\n",
      "Donald Trump will be propelled to the White House for a second term amid concerns about inflation ki\n",
      "http://theguardian.com/world/2024/nov/07/palestinians-weigh-up-impact-of-trump-election-win-ramallah\n",
      "The waiters at Ramallah’s cafes and the tenders of its falafel stands all had more or less the same \n",
      "http://theguardian.com/us-news/2024/nov/07/trump-election-win-10-key-takeaways\n",
      "1. Racism and misogyny defeat joy and hope Harris ran on a platform of joy and a new beginnings, but\n",
      "http://theguardian.com/business/2024/nov/07/trump-victory-adds-record-wealth-richest-top-10\n",
      "The wealth of the 10 richest people in the world – a list dominated by US tech billionaires – increa\n",
      "http://theguardian.com/world/2024/nov/07/abortion-donald-trump-return-to-white-house\n",
      "Abortion, the issue thought to be the magic bullet that would mortally wound Donald Trump’s chances \n",
      "http://theguardian.com/us-news/2024/nov/07/no-10-believes-it-has-done-its-homework-for-a-trump-presidency\n",
      "While Kemi Badenoch was the first politician since the US presidential election result to publicly c\n"
     ]
    }
   ],
   "source": [
    "for article in guardian.articles[:10]:\n",
    "    print(article.url)\n",
    "    article.download()\n",
    "    article.parse()\n",
    "    print(article.text[:100])"
   ]
  },
  {
   "cell_type": "code",
   "execution_count": 12,
   "metadata": {},
   "outputs": [
    {
     "data": {
      "text/plain": [
       "1585"
      ]
     },
     "execution_count": 12,
     "metadata": {},
     "output_type": "execute_result"
    }
   ],
   "source": [
    "len(guardian.articles)"
   ]
  },
  {
   "cell_type": "code",
   "execution_count": 20,
   "metadata": {},
   "outputs": [],
   "source": [
    "article = guardian.articles[0]"
   ]
  },
  {
   "cell_type": "code",
   "execution_count": 24,
   "metadata": {},
   "outputs": [],
   "source": [
    "article.download()"
   ]
  },
  {
   "cell_type": "code",
   "execution_count": 27,
   "metadata": {},
   "outputs": [],
   "source": [
    "article.parse()"
   ]
  },
  {
   "cell_type": "code",
   "execution_count": 29,
   "metadata": {},
   "outputs": [
    {
     "data": {
      "text/plain": [
       "'Putin congratulates Trump on election win and says Russia ready for dialogue'"
      ]
     },
     "execution_count": 29,
     "metadata": {},
     "output_type": "execute_result"
    }
   ],
   "source": [
    "article.title"
   ]
  },
  {
   "cell_type": "code",
   "execution_count": 36,
   "metadata": {},
   "outputs": [
    {
     "data": {
      "text/plain": [
       "125"
      ]
     },
     "execution_count": 36,
     "metadata": {},
     "output_type": "execute_result"
    }
   ],
   "source": [
    "len(d[\"entries\"])"
   ]
  },
  {
   "cell_type": "code",
   "execution_count": 53,
   "metadata": {},
   "outputs": [],
   "source": [
    "from rag import RAG, get_news"
   ]
  },
  {
   "cell_type": "code",
   "execution_count": 54,
   "metadata": {},
   "outputs": [],
   "source": [
    "import feedparser\n",
    "d = feedparser.parse(\"https://theguardian.com/uk/rss\")\n"
   ]
  },
  {
   "cell_type": "code",
   "execution_count": 55,
   "metadata": {},
   "outputs": [],
   "source": [
    "news = get_news(\"https://theguardian.com/uk/rss\")\n",
    "rag = RAG(documents=news)\n",
    "\n"
   ]
  },
  {
   "cell_type": "code",
   "execution_count": 56,
   "metadata": {},
   "outputs": [],
   "source": [
    "results = rag.run(\"How are the Democrats taking the result of the US election?\")"
   ]
  },
  {
   "cell_type": "code",
   "execution_count": 49,
   "metadata": {},
   "outputs": [
    {
     "data": {
      "text/plain": [
       "dict_keys(['llm', 'retriever', 'prompt_builder'])"
      ]
     },
     "execution_count": 49,
     "metadata": {},
     "output_type": "execute_result"
    }
   ],
   "source": [
    "results.keys()"
   ]
  },
  {
   "cell_type": "code",
   "execution_count": 50,
   "metadata": {},
   "outputs": [
    {
     "name": "stdout",
     "output_type": "stream",
     "text": [
      "\n",
      "    Given these news article summaries, answer the question.\n",
      "    Documents:\n",
      "    \n",
      "        <p>Preliminary exit polling shows Harris won women, but in smaller numbers than her Democratic predecessors</p><ul><li><a href=\"https://www.theguardian.com/us-news/ng-interactive/2024/nov/06/us-election-results-map-2024-live-donald-trump-kamala-harris-president\">US election results 2024: live map and tracker</a></li></ul><p>Gender had promised to be one of<strong> </strong>the biggest stories of the 2024 election. With abortion one of voters’ top issues,<strong> </strong><a href=\"https://www.theguardian.com/us-news/donaldtrump\">Donald Trump</a>’s well-documented history of misogyny<strong> </strong>and a female presidential candidate of color on the ballot, <a href=\"https://www.theguardian.com/us-news/democrats\">Democrats</a> banked on women showing up in force to defeat him. But Trump’s stunning victory in both the electoral college and the popular vote dashed those hopes – and scrambled the narrative around how gender, race and other markers of identity informed Americans’ votes.</p><p>Based on available exit polling, which remains preliminary, here are five early takeaways on how gender shaped the 2024 elections.</p><p><a href=\"https://www.theguardian.com/us-news/2024/nov/06/kamala-harris-concession-speech\">Harris urges supporters to ‘never give up’</a></p><p><a href=\"https://www.theguardian.com/us-news/2024/nov/06/election-trump-harris-democrats-loss\">Democrats ask: ‘How do you spend $1bn and not win?’</a></p><p><a href=\"https://www.theguardian.com/us-news/ng-interactive/2024/nov/06/the-key-swings-that-handed-trump-the-white-house-a-visual-analysis\">How Trump won the presidency – in maps</a></p><p><a href=\"https://www.theguardian.com/culture/2024/nov/06/jon-stewart-trump-election\">Jon Stewart: ‘This is not the end’</a></p><p><a href=\"https://www.theguardian.com/us-news/ng-interactive/2024/nov/06/donald-trump-wins-election-11-issues-threat\">With Trump re-elected, this is what’s at stake</a></p> <a href=\"https://www.theguardian.com/us-news/2024/nov/06/election-trump-harris-women-voters\">Continue reading...</a>\n",
      "    \n",
      "        <p>Democrats here were sure this time would be different, but a community leader maintains: ‘It’s not unexpected’</p><ul><li><a href=\"https://www.theguardian.com/us-news/live/2024/nov/07/us-election-2024-live-updates-donald-trump-victory-kamala-harris\">US election after Trump win – live updates</a></li></ul><p>Saginaw county’s <a href=\"https://www.theguardian.com/us-news/democrats\">Democrats</a> <a href=\"https://www.theguardian.com/us-news/2024/nov/04/last-push-saginaw-michigan-voters\">were sure</a> that the lessons had been learned and that this time it would be different.</p><p>The <a href=\"https://www.theguardian.com/us-news/kamala-harris\">Kamala Harris</a> campaign flooded this bellwether county in the crucial battleground state of Michigan with canvassers and advertising, a reaction to Hillary Clinton’s complacent and, as it turned out, misguided belief that she had the area sewn up in 2016.</p><p><a href=\"https://www.theguardian.com/us-news/2024/nov/06/kamala-harris-concession-speech\">Harris urges supporters to ‘never give up’</a> – <a href=\"https://www.theguardian.com/us-news/2024/nov/06/harris-concession-speech-transcript\">read the full speech</a></p><p>Election takeaways: <a href=\"https://www.theguardian.com/us-news/2024/nov/07/trump-election-win-10-key-takeaways\">Democratic drubbing</a> and <a href=\"https://www.theguardian.com/us-news/2024/nov/06/election-trump-harris-women-voters\">how women voted</a></p><p><a href=\"https://www.theguardian.com/us-news/ng-interactive/2024/nov/05/abortion-ballot-results-tracker-ban-states\">Abortion ballot measure results by state</a></p><p><a href=\"https://www.theguardian.com/us-news/ng-interactive/2024/nov/06/the-key-swings-that-handed-trump-the-white-house-a-visual-analysis\">How Trump won the presidency – in maps</a></p><p><a href=\"https://www.theguardian.com/us-news/ng-interactive/2024/nov/06/donald-trump-wins-election-11-issues-threat\">With Trump re-elected, this is what’s at stake</a></p> <a href=\"https://www.theguardian.com/us-news/2024/nov/07/election-saginaw-michigan-swing-state\">Continue reading...</a>\n",
      "    \n",
      "        <p>Sanders’ analysis that Democrats lost because they failed working-class voters scorned by party chair Jaime Harrison</p><ul><li><a href=\"https://www.theguardian.com/us-news/live/2024/nov/07/us-election-2024-live-updates-donald-trump-victory-kamala-harris\">US elections 2024 – live updates</a></li></ul><p>Amid <a href=\"https://www.theguardian.com/us-news/2024/nov/07/trump-election-win-10-key-takeaways\">Democratic mourning</a> over the loss of the presidential election to <a href=\"https://www.theguardian.com/us-news/donaldtrump\">Donald Trump</a>, the party chair risked deepening already growing divisions by rebuking the leftwing Vermont senator Bernie Sanders for saying Democrats have “abandoned working class people”.</p><p>“This is straight up BS,” Jaime Harrison, the Democratic National Committee chair, <a href=\"https://x.com/harrisonjaime/status/1854537146830348292\">said on Thursday</a>. “[Joe] Biden was the most pro-worker president of my lifetime – saved union pensions, created millions of good paying jobs and even marched in a picket line.”</p> <a href=\"https://www.theguardian.com/us-news/2024/nov/07/bernie-sanders-democrats-election\">Continue reading...</a>\n",
      "    \n",
      "        <p>Democrats are coming to terms with a new political reality for America while some – but not all that we spoke to – Republicans look ahead with excitement</p><ul><li><strong><a href=\"https://www.theguardian.com/us-news/live/2024/nov/07/us-election-2024-live-updates-donald-trump-victory-kamala-harris\">US elections 2024 – live updates</a></strong></li></ul><p>“I am still processing my feelings, but what I do know is that my country keeps finding ways to break my heart,” said Adrienne Pickett, a 42-year-old single mother of two who lives in suburban Detroit.</p><p>The <a href=\"https://www.theguardian.com/us-news/kamala-harris\">Kamala Harris</a> voter lives in one of seven states that helped decide the <a href=\"https://www.theguardian.com/us-news/us-elections-2024\">US presidential election</a> on Tuesday. All appear to have voted in Trump’s favor by small but significant margins .</p> <a href=\"https://www.theguardian.com/us-news/2024/nov/07/swing-state-voters-trump-win\">Continue reading...</a>\n",
      "    \n",
      "        <p>Reform UK leader to give speech in Wales while US election result was also celebrated by Tommy Robinson</p><p>Nigel Farage will on Friday address his party’s first big rally since Donald Trump’s <a href=\"https://www.theguardian.com/us-news/2024/nov/06/donald-trump-wins-us-presidential-election\">election win</a> as Britain’s emboldened populist right seek to drive momentum and build on links with the US president-elect.</p><p>In an offer that has been declined by Labour, the Reform UK leader has already suggested he could work “behind the scenes” to build ties with Trump’s administration on behalf of the UK government.</p> <a href=\"https://www.theguardian.com/politics/2024/nov/07/nigel-farage-populist-right-trump-win-build-momentum\">Continue reading...</a>\n",
      "    \n",
      "        <p>Keir Starmer’s team expected a Trump win and has long been building bridges despite political differences</p><ul><li><a href=\"https://www.theguardian.com/us-news/live/2024/nov/07/us-election-2024-live-updates-donald-trump-victory-kamala-harris\">US election live: latest updates after Trump’s victory</a></li></ul><p>While Kemi Badenoch was the first politician since the US presidential election result to publicly challenge Keir Starmer over Labour’s previously tense relationship with Donald Trump, she is unlikely to be the last.</p><p>Yet the UK prime minister, according to government sources, is less anxious about the return of the divisive populist to the White House than the new Tory leader, and many in his own party, might have assumed.</p> <a href=\"https://www.theguardian.com/us-news/2024/nov/07/no-10-believes-it-has-done-its-homework-for-a-trump-presidency\">Continue reading...</a>\n",
      "    \n",
      "        <p>Many feel this US election cycle has been the dirtiest yet in terms of campaigning. <a href=\"https://www.theguardian.com/us-news/donaldtrump\">Donald Trump</a> has viciously attacked <a href=\"https://www.theguardian.com/us-news/kamala-harris\">Kamala Harris</a>, including <a href=\"https://www.theguardian.com/us-news/article/2024/jul/31/trump-lies-questions-kamala-harris-racial-identity-nabj\">questioning</a> her racial identity and her <a href=\"https://www.theguardian.com/us-news/2024/sep/29/trump-republicans-mentally-disabled-comments-harris\">mental resilience</a>, and <a href=\"https://www.theguardian.com/us-news/2024/oct/27/trump-madison-square-garden-rally\">held rallies</a> marked by racist comments, insults and dangerous threats about immigrants. But mudslinging has always beenpart of US politics. The Guardian's US politics editor in London, Chris Michael, digs into the history of personal attacks, why people feel things are getting worse and the dangers of Trump's 'nasty' tactics</p><p></p><ul><li><p><a href=\"https://www.theguardian.com/us-news/live/2024/oct/31/donald-trump-kamala-harris-us-election-latest-updates-live\"><strong>US politics: latest updates</strong></a></p></li></ul> <a href=\"https://www.theguardian.com/us-news/video/2024/oct/31/how-us-politics-got-so-insulting-video\">Continue reading...</a>\n",
      "    \n",
      "        <p>Russian leader congratulates Trump and says he is ready to talk; president-elect reportedly suggests no price limit could derail immigration plan</p><ul><li><a href=\"https://www.theguardian.com/us-news/2024/nov/07/trump-election-win-10-key-takeaways\">Ten key takeaways from Trump’s win</a></li><li><a href=\"https://www.theguardian.com/us-news/ng-interactive/2024/nov/06/the-key-swings-that-handed-trump-the-white-house-a-visual-analysis\">The key swing states and counties that handed Trump the White House</a></li></ul><p>Rudy Giuliani will appear in a New York City courtroom on Thursday to explain to a federal judge why he hasn’t surrendered his valuables as part of a $148m defamation judgment, the Associated Press reports. <br /><br />\n",
      " US District Judge Lewis Liman ordered the former New York City mayor to report to court after lawyers for the two former Georgia election workers who were awarded the massive judgment visited Giuliani’s Manhattan apartment last week only to discover it had been cleared out weeks earlier.<br /><br />\n",
      " The judge had set an 29 October deadline for the longtime ally of once-and-future President Donald Trump to surrender many of his possessions to lawyers for Ruby Freeman and her daughter, Wandrea “Shaye” Moss.<br /><br />\n",
      " Representatives for Giuliani did not respond to an email from Reuters on Wednesday seeking comment.</p><p>While <a href=\"https://www.theguardian.com/politics/kemi-badenoch\">Kemi Badenoch</a> was the first politician since the US presidential election result to publicly challenge Keir Starmer over Labour’s previously tense relationship with Donald Trump, she is unlikely to be the last.</p> <a href=\"https://www.theguardian.com/us-news/live/2024/nov/07/us-election-2024-live-updates-donald-trump-victory-kamala-harris\">Continue reading...</a>\n",
      "    \n",
      "        <p>A lot of people say they just don’t care about ‘politics’, and I’m sure that would make for an easier life. But Kamala Harris was right: we must carry on the fight</p><p>With wailing woe in the small hours, many of you shared that wrenching despair when the US election result extinguished hope. Beyond reason, beyond reckoning, a nation that was once the beacon of the democratic world has knowingly elected a dangerous, racist demagogue, a “pussy-grabbing” criminal who tried to overthrow the government, a wild conspiracy spreader, a squalid, reckless beast of fathomless vanity and corruption. Caligula, Commodus, Nero, Domitian … This is the way a civilisation dies: by suicide not murder.</p><p>Donald Trump could now command <a href=\"https://www.bbc.co.uk/news/articles/c04ld19vlg6o\">both houses of Congress</a> and the supreme court, with no steadying countervailing instinct for national self-preservation. “America first” means no allies, no “special relationships”, tariffs for all. Encourage Russia to “<a href=\"https://www.bbc.co.uk/news/world-us-canada-68266447\">do whatever the hell they want</a>”, Nato be damned. He will send in the military to force <a href=\"https://www.reuters.com/world/us/inside-trumps-plan-mass-deportations-who-wants-stop-him-2024-11-06/\">mass deportations of millions of migrants</a>. He threatens the justice system with revenge, with protesters and opponents branded “<a href=\"https://www.theguardian.com/us-news/2024/oct/14/trump-military-enemy-within-armed-forces-election-day\">the enemy within</a>”. This democratically elected <a href=\"https://www.theguardian.com/us-news/2023/dec/06/donald-trump-sean-hannity-dictator-day-one-response-iowa-town-hall\">self-described “dictator”</a> can do whatever he wants. And the tides will carry this poison across the Atlantic, invigorating Europe’s hard right from Nigel Farage to Viktor Orbán, Geert Wilders to Marine Le Pen, the Alternative für Deutschland to the Sweden Democrats.</p><p>Polly Toynbee is a Guardian columnist</p><p><em><strong>Do you have an opinion on the issues raised in this article? If you would like to submit a response of up to 300 words by email to be considered for publication in our<a href=\"https://www.theguardian.com/tone/letters\"> letters</a> section, please <a href=\"mailto:guardian.letters@theguardian.com?body=Please%20include%20your%20name,%20full%20postal%20address%20and%20phone%20number%20with%20your%20letter%20below.%20Letters%20are%20usually%20published%20with%20the%20author%27s%20name%20and%20city/town/village.%20The%20rest%20of%20the%20information%20is%20for%20verification%20only%20and%20to%20contact%20you%20where%20necessary.\">click here</a>.</strong></em></p> <a href=\"https://www.theguardian.com/commentisfree/2024/nov/07/trump-victory-despair-politics-fight\">Continue reading...</a>\n",
      "    \n",
      "        <p>The Guardian’s Washington bureau chief, <strong>David Smith,</strong> explains how Donald Trump won a second term and what he intends to do with it</p><p>Donald Trump won a decisive victory in the US presidential election on Tuesday night, becoming the first man in 150 years to have been voted out as president and then win office again.</p><p>The Guardian’s Washington bureau chief, <strong>David Smith, </strong>explains to <strong>Lucy Hough </strong>how the night unfolded at Trump’s victory rally in Florida, and how the former president even managed to win the popular vote after months of polls predicting a knife-edge contest.</p> <a href=\"https://www.theguardian.com/news/audio/2024/nov/07/what-will-trump-do-in-power-podcast\">Continue reading...</a>\n",
      "    \n",
      "        <p>The country is about to start investigating crimes reported in a brutal regional war. But trust is at an all-time low and survivors feel forgotten</p><p>Meaza Teklemariam was seven months pregnant when the soldiers came to her home in January 2021, dragged her husband, Tsegaye, outside and bound his hands together, before taking him away with other men from their neighbourhood in the Tigray region of Ethiopia.</p><p>“They said to him, ‘You are a fighter, you are a fighter’,” says Meaza, tears rolling down her cheeks. “He kept saying, ‘No, no. I’m a farmer, I’m a civilian.’”</p> <a href=\"https://www.theguardian.com/global-development/2024/nov/07/ethiopia-justice-tigray-atrocities-crimes-violence\">Continue reading...</a>\n",
      "    \n",
      "        <p>The president-elect has made his disdain for journalism clear. His second term is a risk to a free press in the United States and beyond. Help us to hold him to account</p><ul><li><a href=\"https://support.theguardian.com/contribute?utm_source=GUARDIAN_WEB&amp;utm_content=KATH_US_ELECTION_RESULT&amp;utm_campaign=KATH_US_ELECTION_RESULT&amp;utm_medium=ACQUISITIONS_EDITORIAL_LINK&amp;utm_term=KATH_US_ELECTION_RESULT\">Support the Guardian’s independent journalism today</a></li></ul><p>We’ve just witnessed an extraordinary, devastating moment in the history of the United States. In 2016, we promised that our coverage of a Donald Trump administration would meet the moment – and I think it did. Throughout those tumultuous four years we never minimised or normalised the threat of Trump’s authoritarianism, and we treated his lies as a genuine danger to democracy, a threat that found its expression on 6 January 2021.</p><p>Now, with Trump months away from taking office again – with dramatic implications for wars in Ukraine and the Middle East, the health of American democracy, reproductive rights, inequality and, perhaps most of all, our collective environmental future – it’s time for us to redouble our efforts to hold the president-elect and those who surround him to account.</p> <a href=\"https://www.theguardian.com/us-news/2024/nov/06/how-the-guardian-will-stand-up-to-four-more-years-of-donald-trump\">Continue reading...</a>\n",
      "    \n",
      "        <p>The best photos from Guardian photographers in Pennsylvania, North Carolina, Arizona, Alabama, Georgia, New Jersey, Washington DC, Florida and Wisconsin</p><ul><li><a href=\"https://www.theguardian.com/us-news/live/2024/nov/06/us-presidential-election-2024-donald-trump-kamala-harris-latest-news-updates\">US election 2024 – live news updates</a></li><li><a href=\"https://www.theguardian.com/us-news/ng-interactive/2024/nov/05/us-election-results-2024-live-donald-trump-kamala-harris-president\">US election results 2024: live map and tracker</a></li><li><a href=\"https://www.theguardian.com/us-news/ng-interactive/2024/nov/05/us-senate-house-and-governor-elections-2024-results-from-all-50-states\">Senate and House results 2024: live maps and tracker</a></li></ul> <a href=\"https://www.theguardian.com/us-news/gallery/2024/nov/05/election-data-photos\">Continue reading...</a>\n",
      "    \n",
      "        <p>American anchors had mixed reactions as they announced Donald Trump as the 47th president of the United States. Fox News praised the president-elect's campaign, while other networks focused on his criminal convictions and involvement in the January 6 riots. Trump becomes the first convicted criminal to win the White House. At 78, he is also the oldest person ever elected to the office</p><ul><li><p><a href=\"https://www.theguardian.com/us-news/2024/nov/06/donald-trump-wins-us-presidential-election\">Donald Trump elected US president in stunning political resurrection</a></p></li><li><p><a href=\"https://www.theguardian.com/us-news/live/2024/nov/06/us-presidential-election-2024-donald-trump-kamala-harris-latest-news-updates\">US election 2024 live: Donald Trump defeats Kamala Harris to win historic second term as president</a></p></li><li><p><a href=\"https://www.theguardian.com/us-news/ng-interactive/2024/nov/06/us-election-results-map-2024-live-donald-trump-kamala-harris-president\">US election 2024 results live: Donald Trump wins presidency, defeating Kamala Harris</a></p></li></ul> <a href=\"https://www.theguardian.com/us-news/video/2024/nov/06/us-networks-react-donald-trump-election-victory-video\">Continue reading...</a>\n",
      "    \n",
      "        <p>Olaf Scholz’s sacking of his finance minister has plunged Europe’s largest economy into considerable uncertainty</p><p>Germany’s three-way coalition, the “traffic light” alliance of centre-left Social Democrats (SPD), Greens and free-market liberal Free Democratic party (FDP), <a href=\"https://www.theguardian.com/world/2024/nov/07/olaf-scholz-faces-calls-for-immediate-confidence-vote-after-coalition-collapses-german\">has collapsed after three years</a>, following a lengthy dispute over how to stop a multibillion-euro hole in next year’s budget, plunging Europe’s largest economy into a period of considerable uncertainty.</p> <a href=\"https://www.theguardian.com/world/2024/nov/07/why-germany-government-collapsed-what-happens-next\">Continue reading...</a>\n",
      "    \n",
      "        <p><a href=\"https://www.theguardian.com/us-news/donaldtrump\">Donald Trump</a> has been elected the 47th president of the United States in a political resurrection that sent shock waves through the US and around the world. As votes were counted overnight, Trump took <a href=\"https://www.theguardian.com/us-news/northcarolina\">North Carolina</a> surprisingly early, the first battleground state to be called, and later won Georgia and Pennsylvania. After 2am ET, Trump emerged to speak, surrounded by his family, close aides and <a href=\"https://www.theguardian.com/us-news/jd-vance\">JD Vance</a>, the hard-right Ohio senator he picked for vice-president. Trump defeated Harris, a Democrat who had been seeking to make history as the first woman, first Black woman and first south Asian American to become president in the US’s 248-year history</p><ul><li><p><a href=\"https://www.theguardian.com/us-news/2024/nov/06/donald-trump-wins-us-presidential-election\">Donald Trump elected US president in stunning political resurrection</a></p></li></ul> <a href=\"https://www.theguardian.com/us-news/video/2024/nov/06/how-night-of-trump-presidential-comeback-unfolded-video-timeline\">Continue reading...</a>\n",
      "    \n",
      "        <p>Returning US president has promised protectionist trade measures, relaxed regulation and cheaper energy for consumers</p><ul><li><a href=\"https://www.theguardian.com/us-news/live/2024/nov/07/us-election-2024-live-updates-donald-trump-victory-kamala-harris\">US election live: latest updates after Trump’s victory</a></li></ul><p>Donald Trump’s <a href=\"https://www.theguardian.com/us-news/us-elections-2024\">victory in the US presidential election</a> left investors and business leaders across the globe scrambling to assess what his return to the White House will mean.</p><p>Stock markets, the dollar and bitcoin rallied in the immediate aftermath of his win, while shares in defence companies, prison operators and Elon Musk’s Tesla rose sharply. Meanwhile, renewable energy companies’ and German carmakers’ stocks fell. Here, we study the outlook for key industries.</p> <a href=\"https://www.theguardian.com/business/2024/nov/07/more-tariffs-less-red-tape-what-trump-will-mean-for-key-global-industries\">Continue reading...</a>\n",
      "    \n",
      "        <p>It builds muscle mass, improves bone density and is good for your heart, mood and sleep. But how easy is it to get started at 49, when you haven’t entered a gym for decades?</p><p>As a middle-aged woman, you would have to be living under a rock (one you’re too weak to lift, maybe) not to know you should be strength training. The headlines just keep coming, ever more persuasive. “Lifting heavy” builds muscle mass and <a href=\"https://www.theguardian.com/society/2024/oct/27/feel-it-in-your-bones-taking-the-pain-out-of-osteoporosis\">improves bone density</a>; it’s good for your <a href=\"https://www.jacc.org/doi/10.1016/j.jacc.2023.12.019\">heart</a>, mood and <a href=\"https://www.shu.ac.uk/advanced-wellbeing-research-centre/projects/strength-in-midlife\">sleep</a>.</p><p>I don’t do it, though. Why not? I suppose because I’m lazy, fear gyms and never really feel the need to be stronger (except when I’m trying to lift 20kg sacks of bird food). But I would like to age without crumbling into a heap of dust, could probably do with a mood boost and I’ve heard good things about this “sleep” business. So fine, I give in. Can I learn to LHS (that’s “<a href=\"https://www.facebook.com/photo.php?fbid=2532564317024928&amp;id=1643394199275282&amp;set=a.1726957927585575\">lift heavy shit</a>”) in six weeks – and will I like it?</p> <a href=\"https://www.theguardian.com/lifeandstyle/2024/nov/07/my-upper-arms-are-like-jelly-can-i-learn-to-love-weightlifting-in-six-weeks\">Continue reading...</a>\n",
      "    \n",
      "        <p>Experts say many don’t know what to do now that Trump can carry out vow to run biggest deportation ‘in US history’</p><ul><li><a href=\"https://www.theguardian.com/us-news/live/2024/nov/07/us-election-2024-live-updates-donald-trump-victory-kamala-harris\">US elections – latest updates</a></li></ul><p></p><p>Fear is rippling through undocumented communities across the US as Donald Trump prepares to take the White House, promising record deportations after an election campaign filled with xenophobic hate speech and a first term marked by anti-immigration crackdowns.</p><p>In the final run-up to the presidential election, Areli Hernandez traveled to Phoenix to talk to voters about what mass deportations and, for many, a new form of <a href=\"https://www.theguardian.com/us-news/2018/jun/22/going-through-hell-at-the-border-parents-split-from-children-tell-of-anguish\">family separation</a> could mean for millions.</p> <a href=\"https://www.theguardian.com/us-news/2024/nov/07/trump-mass-deportation-immigration-fears\">Continue reading...</a>\n",
      "    \n",
      "        <p>Even after a failed coup and numerous legal wranglings, many men could not bring themselves to vote for a woman</p><ul><li><a href=\"https://www.theguardian.com/us-news/live/2024/nov/07/us-election-2024-live-updates-donald-trump-victory-kamala-harris\">US election live: latest updates after Trump’s victory</a></li></ul><p>“It’s bitter in the mouth, the racial and gender dimension of this.” This was Van Jones, the CNN political analyst and a Black American, speaking at 3.10am EST the <a href=\"https://www.theguardian.com/us-news/2024/nov/06/donald-trump-wins-us-presidential-election\">night of the US election</a>. To his right, David Axelrod, the former senior adviser to Barack Obama, maintained what in the circumstances looked like a supernatural composure, as if through sheer civility he might put this right. The CNN anchors, 14 hours into their marathon shift, were deep into that adrenalised territory where no human sentiment survives. Jones looked as if he was going cry.</p><p>I had woken at 4.30am GMT, glanced at the blizzard of messages stacked up on my phone, and had the thought that for as long as I didn’t know what had happened, nothing had happened at all. Isn’t this a basic philosophical principle? The night before, things had looked good. In the past two weeks of the election Trump had seemed, even by his standards, to have gone completely off the beam. The <a href=\"https://www.theguardian.com/us-news/2024/nov/03/trump-harris-iowa-poll\">shock poll in Iowa</a> had augured a popular swing from the right towards Harris. Men, who support Trump in larger numbers than women, can sometimes be relied upon to skip voting.</p> <a href=\"https://www.theguardian.com/commentisfree/2024/nov/07/us-elections-donald-trump-win-worse-americans-knew\">Continue reading...</a>\n",
      "    \n",
      "    Question: How are the Democrats taking the result of the US election?\n",
      "    Answer:\n",
      "    \n"
     ]
    }
   ],
   "source": [
    "print(results[\"prompt_builder\"][\"prompt\"])"
   ]
  },
  {
   "cell_type": "code",
   "execution_count": 51,
   "metadata": {},
   "outputs": [
    {
     "name": "stdout",
     "output_type": "stream",
     "text": [
      "['The text does not provide information on how the Democrats are taking the result of the US election. However, it mentions that there is fear rippling through undocumented communities across the US as Donald Trump prepares to take the White House, promising record deportations, and that many men could not bring themselves to vote for a woman, with one analyst describing the racial and gender dimension of this as \"bitter\".']\n"
     ]
    }
   ],
   "source": [
    "print(results[\"llm\"][\"replies\"])"
   ]
  },
  {
   "cell_type": "code",
   "execution_count": 58,
   "metadata": {},
   "outputs": [],
   "source": [
    "from haystack import Document\n",
    "d = Document(content=\"kk\")"
   ]
  },
  {
   "cell_type": "code",
   "execution_count": 59,
   "metadata": {},
   "outputs": [
    {
     "data": {
      "text/plain": [
       "'kk'"
      ]
     },
     "execution_count": 59,
     "metadata": {},
     "output_type": "execute_result"
    }
   ],
   "source": [
    "d.content\n"
   ]
  },
  {
   "cell_type": "code",
   "execution_count": null,
   "metadata": {},
   "outputs": [],
   "source": []
  }
 ],
 "metadata": {
  "kernelspec": {
   "display_name": "newsrag",
   "language": "python",
   "name": "python3"
  },
  "language_info": {
   "codemirror_mode": {
    "name": "ipython",
    "version": 3
   },
   "file_extension": ".py",
   "mimetype": "text/x-python",
   "name": "python",
   "nbconvert_exporter": "python",
   "pygments_lexer": "ipython3",
   "version": "3.11.10"
  }
 },
 "nbformat": 4,
 "nbformat_minor": 2
}
